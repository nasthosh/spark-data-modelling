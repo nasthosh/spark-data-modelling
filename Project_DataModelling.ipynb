{
 "cells": [
  {
   "cell_type": "code",
   "execution_count": 1,
   "metadata": {},
   "outputs": [],
   "source": [
    "#Step01 -- Initializing Spark\n",
    "\n",
    "from pyspark import SparkContext, SparkConf \n",
    "from pyspark.sql import SparkSession\n",
    "\n",
    "# We add this line to avoid an error : \"Cannot run multiple SparkContexts at once\". \n",
    "# If there is an existing spark context, we will reuse it instead of creating a new context.\n",
    "sc = SparkContext.getOrCreate()\n",
    "\n",
    "# local[*]: run Spark locally with as many working processors as logical cores on your machine.\n",
    "# In the field of `master`, we use a local server with as many working processors (or threads) as possible (i.e. `local[*]`). \n",
    "# If we want Spark to run locally with 'k' worker threads, we can specify as `local[k]`.\n",
    "# The `appName` field is a name to be shown on the Sparking cluster UI. \n",
    "\n",
    "# If there is no existing spark context, we now create a new context\n",
    "if (sc is None):\n",
    "    sc = SparkContext(master=\"local[*]\", appName=\"FIT5202 Assignment 2\")\n",
    "\n",
    "spark = SparkSession(sparkContext=sc)"
   ]
  },
  {
   "cell_type": "code",
   "execution_count": 2,
   "metadata": {},
   "outputs": [
    {
     "name": "stdout",
     "output_type": "stream",
     "text": [
      "The total number of entries in the dataset is:  142193\n"
     ]
    }
   ],
   "source": [
    "#Step 02 -- Load,Read and print\n",
    "\n",
    "weatherdf = spark.read.csv('weatherAUS.csv',inferSchema=True, header=True)\n",
    "print(\"The total number of entries in the dataset is: \",weatherdf.count())"
   ]
  },
  {
   "cell_type": "code",
   "execution_count": 7,
   "metadata": {},
   "outputs": [
    {
     "name": "stdout",
     "output_type": "stream",
     "text": [
      "Schema for the dataset\n",
      "------------------------------------------------------------------------------- \n",
      "root\n",
      " |-- MinTemp: string (nullable = true)\n",
      " |-- MaxTemp: string (nullable = true)\n",
      " |-- Rainfall: string (nullable = true)\n",
      " |-- WindGustDir: string (nullable = true)\n",
      " |-- WindGustSpeed: string (nullable = true)\n",
      " |-- WindDir9am: string (nullable = true)\n",
      " |-- WindDir3pm: string (nullable = true)\n",
      " |-- WindSpeed9am: string (nullable = true)\n",
      " |-- WindSpeed3pm: string (nullable = true)\n",
      " |-- Humidity9am: string (nullable = true)\n",
      " |-- Humidity3pm: string (nullable = true)\n",
      " |-- Pressure9am: string (nullable = true)\n",
      " |-- Pressure3pm: string (nullable = true)\n",
      " |-- RainToday: string (nullable = true)\n",
      " |-- RainTomorrow: string (nullable = true)\n",
      "\n"
     ]
    }
   ],
   "source": [
    "#Step 03 - Delete columns\n",
    "\n",
    "columns_to_drop=['Date','Location','Evaporation','Sunshine','Cloud9am','Cloud3pm','Temp9am','Temp3pm']\n",
    "weatherdf = weatherdf.select([column for column in weatherdf.columns if column not in columns_to_drop])\n",
    "print(\"Schema for the dataset\")\n",
    "print(\"------------------------------------------------------------------------------- \")\n",
    "weatherdf.printSchema()"
   ]
  },
  {
   "cell_type": "code",
   "execution_count": 8,
   "metadata": {},
   "outputs": [
    {
     "name": "stdout",
     "output_type": "stream",
     "text": [
      "+-------+-------+--------+-----------+-------------+----------+----------+------------+------------+-----------+-----------+-----------+-----------+---------+------------+\n",
      "|MinTemp|MaxTemp|Rainfall|WindGustDir|WindGustSpeed|WindDir9am|WindDir3pm|WindSpeed9am|WindSpeed3pm|Humidity9am|Humidity3pm|Pressure9am|Pressure3pm|RainToday|RainTomorrow|\n",
      "+-------+-------+--------+-----------+-------------+----------+----------+------------+------------+-----------+-----------+-----------+-----------+---------+------------+\n",
      "|    637|    322|    1406|       9330|         9270|     10013|      3778|        1348|        2630|       1774|       3610|      14014|      13981|     1406|           0|\n",
      "+-------+-------+--------+-----------+-------------+----------+----------+------------+------------+-----------+-----------+-----------+-----------+---------+------------+\n",
      "\n"
     ]
    }
   ],
   "source": [
    "#Step 04 - Printing count of null values(NA) in each column\n",
    "\n",
    "from pyspark.sql.functions import when, count, col\n",
    "\n",
    "weatherdf.select([count(when(col(c)=='NA', c)).alias(c) for c in weatherdf.columns]).show()"
   ]
  },
  {
   "cell_type": "code",
   "execution_count": 9,
   "metadata": {},
   "outputs": [],
   "source": [
    "#Step 05 -- replace NA values in numeric column with mean\n",
    "\n",
    "from pyspark.sql.functions import round,mean\n",
    "\n",
    "weatherdf = weatherdf.withColumn('MinTemp', when(col('MinTemp')=='NA',weatherdf.select(round(mean(col('MinTemp')),2))\\\n",
    "                                        .first()[0]).otherwise(col('MinTemp')))\\\n",
    "        .withColumn('MaxTemp', when(col('MaxTemp')=='NA',weatherdf.select(round(mean(col('MaxTemp')),2))\\\n",
    "                                        .first()[0]).otherwise(col('MaxTemp')))\\\n",
    "        .withColumn('Rainfall', when(col('Rainfall')=='NA',weatherdf.select(round(mean(col('Rainfall')),2))\\\n",
    "                                         .first()[0]).otherwise(col('Rainfall')))\\\n",
    "        .withColumn('WindGustSpeed', when(col('WindGustSpeed')=='NA',weatherdf.select(round(mean(col('WindGustSpeed')),2))\\\n",
    "                                        .first()[0]).otherwise(col('WindGustSpeed')))\\\n",
    "        .withColumn('WindSpeed9am', when(col('WindSpeed9am')=='NA',weatherdf.select(round(mean(col('WindSpeed9am')),2))\\\n",
    "                                         .first()[0]).otherwise(col('WindSpeed9am')))\\\n",
    "        .withColumn('WindSpeed3pm', when(col('WindSpeed3pm')=='NA',weatherdf.select(round(mean(col('WindSpeed3pm')),2))\\\n",
    "                                         .first()[0]).otherwise(col('WindSpeed3pm')))\\\n",
    "        .withColumn('Humidity9am', when(col('Humidity9am')=='NA',weatherdf.select(round(mean(col('Humidity9am')),2))\\\n",
    "                                        .first()[0]).otherwise(col('Humidity9am')))\\\n",
    "        .withColumn('Humidity3pm', when(col('Humidity3pm')=='NA',weatherdf.select(round(mean(col('Humidity3pm')),2))\\\n",
    "                                        .first()[0]).otherwise(col('Humidity3pm')))\\\n",
    "        .withColumn('Pressure9am', when(col('Pressure9am')=='NA',weatherdf.select(round(mean(col('Pressure9am')),2))\\\n",
    "                                        .first()[0]).otherwise(col('Pressure9am')))\\\n",
    "        .withColumn('Pressure3pm', when(col('Pressure3pm')=='NA',weatherdf.select(round(mean(col('Pressure3pm')),2))\\\n",
    "                                        .first()[0]).otherwise(col('Pressure3pm')))"
   ]
  },
  {
   "cell_type": "code",
   "execution_count": 10,
   "metadata": {},
   "outputs": [],
   "source": [
    "#Step 05 -- replace NA values in non-numeric column with frequency\n",
    "\n",
    "\n",
    "weatherdf = weatherdf.withColumn('WindGustDir', when(col('WindGustDir')=='NA',weatherdf.select('WindGustDir')\\\n",
    "                    .groupBy('WindGustDir').count().sort('count',ascending=False).first()[0])\\\n",
    "                                 .otherwise(col('WindGustDir')))\\\n",
    ".withColumn('WindDir9am', when(col('WindDir9am')=='NA',weatherdf.select('WindDir9am')\\\n",
    "                    .groupBy('WindDir9am').count().sort('count',ascending=False).first()[0])\\\n",
    "                                .otherwise(col('WindDir9am')))\\\n",
    ".withColumn('WindDir3pm', when(col('WindDir3pm')=='NA',weatherdf.select('WindDir3pm')\\\n",
    "                    .groupBy('WindDir3pm').count().sort('count',ascending=False).first()[0])\\\n",
    "                                .otherwise(col('WindDir3pm')))\\\n",
    ".withColumn('RainToday', when(col('RainToday')=='NA',weatherdf.select('RainToday')\\\n",
    "                    .groupBy('RainToday').count().sort('count',ascending=False).first()[0])\\\n",
    "                                .otherwise(col('RainToday')))\\\n",
    ".withColumn('RainTomorrow', when(col('RainTomorrow')=='NA',weatherdf.select('RainTomorrow')\\\n",
    "                    .groupBy('RainTomorrow').count().sort('count',ascending=False).first()[0])\\\n",
    "                                .otherwise(col('RainTomorrow')))"
   ]
  },
  {
   "cell_type": "code",
   "execution_count": 11,
   "metadata": {},
   "outputs": [],
   "source": [
    "#Step 06 -- Data Transformation \n",
    "\n",
    "#Splitting numeric and Non-numeric columns\n",
    "numericColumns=['MinTemp',\n",
    "                'MaxTemp',\n",
    "                'Rainfall',\n",
    "                'WindGustSpeed',\n",
    "                'WindSpeed9am',\n",
    "                'WindSpeed3pm',\n",
    "                'Humidity9am',\n",
    "                'Humidity3pm',\n",
    "                'Pressure9am',\n",
    "                'Pressure3pm']\n",
    "\n",
    "nonNumericColumns=['WindGustDir',\n",
    "                   'WindDir9am',\n",
    "                   'WindDir3pm',\n",
    "                   'RainToday',\n",
    "                   'RainTomorrow']\n",
    "\n",
    "#Here I am converting numeric columns into double type\n",
    "\n",
    "for col_name in numericColumns:  \n",
    "    weatherdf=weatherdf.withColumn(col_name, col(col_name).cast('double'))"
   ]
  },
  {
   "cell_type": "code",
   "execution_count": 12,
   "metadata": {},
   "outputs": [
    {
     "name": "stdout",
     "output_type": "stream",
     "text": [
      "+-------+-------+--------+-----------+-------------+----------+----------+------------+------------+-----------+-----------+-----------+-----------+---------+------------+-------------------------------------------------------+\n",
      "|MinTemp|MaxTemp|Rainfall|WindGustDir|WindGustSpeed|WindDir9am|WindDir3pm|WindSpeed9am|WindSpeed3pm|Humidity9am|Humidity3pm|Pressure9am|Pressure3pm|RainToday|RainTomorrow|features                                               |\n",
      "+-------+-------+--------+-----------+-------------+----------+----------+------------+------------+-----------+-----------+-----------+-----------+---------+------------+-------------------------------------------------------+\n",
      "|13.4   |22.9   |0.6     |W          |44.0         |W         |WNW       |20.0        |24.0        |71.0       |22.0       |1007.7     |1007.1     |No       |No          |[13.4,22.9,0.6,44.0,20.0,24.0,71.0,22.0,1007.7,1007.1] |\n",
      "|7.4    |25.1   |0.0     |WNW        |44.0         |NNW       |WSW       |4.0         |22.0        |44.0       |25.0       |1010.6     |1007.8     |No       |No          |[7.4,25.1,0.0,44.0,4.0,22.0,44.0,25.0,1010.6,1007.8]   |\n",
      "|12.9   |25.7   |0.0     |WSW        |46.0         |W         |WSW       |19.0        |26.0        |38.0       |30.0       |1007.6     |1008.7     |No       |No          |[12.9,25.7,0.0,46.0,19.0,26.0,38.0,30.0,1007.6,1008.7] |\n",
      "|9.2    |28.0   |0.0     |NE         |24.0         |SE        |E         |11.0        |9.0         |45.0       |16.0       |1017.6     |1012.8     |No       |No          |[9.2,28.0,0.0,24.0,11.0,9.0,45.0,16.0,1017.6,1012.8]   |\n",
      "|17.5   |32.3   |1.0     |W          |41.0         |ENE       |NW        |7.0         |20.0        |82.0       |33.0       |1010.8     |1006.0     |No       |No          |[17.5,32.3,1.0,41.0,7.0,20.0,82.0,33.0,1010.8,1006.0]  |\n",
      "|14.6   |29.7   |0.2     |WNW        |56.0         |W         |W         |19.0        |24.0        |55.0       |23.0       |1009.2     |1005.4     |No       |No          |[14.6,29.7,0.2,56.0,19.0,24.0,55.0,23.0,1009.2,1005.4] |\n",
      "|14.3   |25.0   |0.0     |W          |50.0         |SW        |W         |20.0        |24.0        |49.0       |19.0       |1009.6     |1008.2     |No       |No          |[14.3,25.0,0.0,50.0,20.0,24.0,49.0,19.0,1009.6,1008.2] |\n",
      "|7.7    |26.7   |0.0     |W          |35.0         |SSE       |W         |6.0         |17.0        |48.0       |19.0       |1013.4     |1010.1     |No       |No          |[7.7,26.7,0.0,35.0,6.0,17.0,48.0,19.0,1013.4,1010.1]   |\n",
      "|9.7    |31.9   |0.0     |NNW        |80.0         |SE        |NW        |7.0         |28.0        |42.0       |9.0        |1008.9     |1003.6     |No       |Yes         |[9.7,31.9,0.0,80.0,7.0,28.0,42.0,9.0,1008.9,1003.6]    |\n",
      "|13.1   |30.1   |1.4     |W          |28.0         |S         |SSE       |15.0        |11.0        |58.0       |27.0       |1007.0     |1005.7     |Yes      |No          |[13.1,30.1,1.4,28.0,15.0,11.0,58.0,27.0,1007.0,1005.7] |\n",
      "|13.4   |30.4   |0.0     |N          |30.0         |SSE       |ESE       |17.0        |6.0         |48.0       |22.0       |1011.8     |1008.7     |No       |Yes         |[13.4,30.4,0.0,30.0,17.0,6.0,48.0,22.0,1011.8,1008.7]  |\n",
      "|15.9   |21.7   |2.2     |NNE        |31.0         |NE        |ENE       |15.0        |13.0        |89.0       |91.0       |1010.5     |1004.2     |Yes      |Yes         |[15.9,21.7,2.2,31.0,15.0,13.0,89.0,91.0,1010.5,1004.2] |\n",
      "|15.9   |18.6   |15.6    |W          |61.0         |NNW       |NNW       |28.0        |28.0        |76.0       |93.0       |994.3      |993.0      |Yes      |Yes         |[15.9,18.6,15.6,61.0,28.0,28.0,76.0,93.0,994.3,993.0]  |\n",
      "|12.6   |21.0   |3.6     |SW         |44.0         |W         |SSW       |24.0        |20.0        |65.0       |43.0       |1001.2     |1001.8     |Yes      |No          |[12.6,21.0,3.6,44.0,24.0,20.0,65.0,43.0,1001.2,1001.8] |\n",
      "|9.8    |27.7   |2.35    |WNW        |50.0         |N         |WNW       |14.0        |22.0        |50.0       |28.0       |1013.4     |1010.3     |No       |No          |[9.8,27.7,2.35,50.0,14.0,22.0,50.0,28.0,1013.4,1010.3] |\n",
      "|14.1   |20.9   |0.0     |ENE        |22.0         |SSW       |E         |11.0        |9.0         |69.0       |82.0       |1012.2     |1010.4     |No       |Yes         |[14.1,20.9,0.0,22.0,11.0,9.0,69.0,82.0,1012.2,1010.4]  |\n",
      "|13.5   |22.9   |16.8    |W          |63.0         |N         |WNW       |6.0         |20.0        |80.0       |65.0       |1005.8     |1002.2     |Yes      |Yes         |[13.5,22.9,16.8,63.0,6.0,20.0,80.0,65.0,1005.8,1002.2] |\n",
      "|11.2   |22.5   |10.6    |SSE        |43.0         |WSW       |SW        |24.0        |17.0        |47.0       |32.0       |1009.4     |1009.7     |Yes      |No          |[11.2,22.5,10.6,43.0,24.0,17.0,47.0,32.0,1009.4,1009.7]|\n",
      "|9.8    |25.6   |0.0     |SSE        |26.0         |SE        |NNW       |17.0        |6.0         |45.0       |26.0       |1019.2     |1017.1     |No       |No          |[9.8,25.6,0.0,26.0,17.0,6.0,45.0,26.0,1019.2,1017.1]   |\n",
      "|11.5   |29.3   |0.0     |S          |24.0         |SE        |SE        |9.0         |9.0         |56.0       |28.0       |1019.3     |1014.8     |No       |No          |[11.5,29.3,0.0,24.0,9.0,9.0,56.0,28.0,1019.3,1014.8]   |\n",
      "+-------+-------+--------+-----------+-------------+----------+----------+------------+------------+-----------+-----------+-----------+-----------+---------+------------+-------------------------------------------------------+\n",
      "only showing top 20 rows\n",
      "\n"
     ]
    }
   ],
   "source": [
    "#Step 06 -- Data Transformation \n",
    "#Here I'm using VectorAssembler transformation for data processing \n",
    "\n",
    "from pyspark.ml.feature import VectorAssembler\n",
    "\n",
    "assembler = VectorAssembler(inputCols=[\"MinTemp\",\"MaxTemp\",\"Rainfall\",\"WindGustSpeed\",\n",
    "                                \"WindSpeed9am\",\"WindSpeed3pm\",\"Humidity9am\",\"Humidity3pm\",\"Pressure9am\",\n",
    "                                \"Pressure3pm\"],\n",
    "                       outputCol=\"features\")\n",
    "\n",
    "weatherdf=assembler.transform(weatherdf)\n",
    "\n",
    "weatherdf.show(truncate=False)"
   ]
  },
  {
   "cell_type": "code",
   "execution_count": 13,
   "metadata": {},
   "outputs": [
    {
     "name": "stdout",
     "output_type": "stream",
     "text": [
      "+-------+-------+--------+-----------+-------------+----------+----------+------------+------------+-----------+-----------+-----------+-----------+---------+------------+-------------------------------------------------------+-----------------+----------------+----------------+---------------+------------------+\n",
      "|MinTemp|MaxTemp|Rainfall|WindGustDir|WindGustSpeed|WindDir9am|WindDir3pm|WindSpeed9am|WindSpeed3pm|Humidity9am|Humidity3pm|Pressure9am|Pressure3pm|RainToday|RainTomorrow|features                                               |WindGustDir_index|WindDir9am_index|WindDir3pm_index|RainToday_index|RainTomorrow_index|\n",
      "+-------+-------+--------+-----------+-------------+----------+----------+------------+------------+-----------+-----------+-----------+-----------+---------+------------+-------------------------------------------------------+-----------------+----------------+----------------+---------------+------------------+\n",
      "|13.4   |22.9   |0.6     |W          |44.0         |W         |WNW       |20.0        |24.0        |71.0       |22.0       |1007.7     |1007.1     |No       |No          |[13.4,22.9,0.6,44.0,20.0,24.0,71.0,22.0,1007.7,1007.1] |0.0              |6.0             |7.0             |0.0            |0.0               |\n",
      "|7.4    |25.1   |0.0     |WNW        |44.0         |NNW       |WSW       |4.0         |22.0        |44.0       |25.0       |1010.6     |1007.8     |No       |No          |[7.4,25.1,0.0,44.0,4.0,22.0,44.0,25.0,1010.6,1007.8]   |9.0              |9.0             |3.0             |0.0            |0.0               |\n",
      "|12.9   |25.7   |0.0     |WSW        |46.0         |W         |WSW       |19.0        |26.0        |38.0       |30.0       |1007.6     |1008.7     |No       |No          |[12.9,25.7,0.0,46.0,19.0,26.0,38.0,30.0,1007.6,1008.7] |6.0              |6.0             |3.0             |0.0            |0.0               |\n",
      "|9.2    |28.0   |0.0     |NE         |24.0         |SE        |E         |11.0        |9.0         |45.0       |16.0       |1017.6     |1012.8     |No       |No          |[9.2,28.0,0.0,24.0,11.0,9.0,45.0,16.0,1017.6,1012.8]   |13.0             |1.0             |10.0            |0.0            |0.0               |\n",
      "|17.5   |32.3   |1.0     |W          |41.0         |ENE       |NW        |7.0         |20.0        |82.0       |33.0       |1010.8     |1006.0     |No       |No          |[17.5,32.3,1.0,41.0,7.0,20.0,82.0,33.0,1010.8,1006.0]  |0.0              |10.0            |8.0             |0.0            |0.0               |\n",
      "|14.6   |29.7   |0.2     |WNW        |56.0         |W         |W         |19.0        |24.0        |55.0       |23.0       |1009.2     |1005.4     |No       |No          |[14.6,29.7,0.2,56.0,19.0,24.0,55.0,23.0,1009.2,1005.4] |9.0              |6.0             |1.0             |0.0            |0.0               |\n",
      "|14.3   |25.0   |0.0     |W          |50.0         |SW        |W         |20.0        |24.0        |49.0       |19.0       |1009.6     |1008.2     |No       |No          |[14.3,25.0,0.0,50.0,20.0,24.0,49.0,19.0,1009.6,1008.2] |0.0              |7.0             |1.0             |0.0            |0.0               |\n",
      "|7.7    |26.7   |0.0     |W          |35.0         |SSE       |W         |6.0         |17.0        |48.0       |19.0       |1013.4     |1010.1     |No       |No          |[7.7,26.7,0.0,35.0,6.0,17.0,48.0,19.0,1013.4,1010.1]   |0.0              |3.0             |1.0             |0.0            |0.0               |\n",
      "|9.7    |31.9   |0.0     |NNW        |80.0         |SE        |NW        |7.0         |28.0        |42.0       |9.0        |1008.9     |1003.6     |No       |Yes         |[9.7,31.9,0.0,80.0,7.0,28.0,42.0,9.0,1008.9,1003.6]    |14.0             |1.0             |8.0             |0.0            |1.0               |\n",
      "|13.1   |30.1   |1.4     |W          |28.0         |S         |SSE       |15.0        |11.0        |58.0       |27.0       |1007.0     |1005.7     |Yes      |No          |[13.1,30.1,1.4,28.0,15.0,11.0,58.0,27.0,1007.0,1005.7] |0.0              |5.0             |5.0             |1.0            |0.0               |\n",
      "|13.4   |30.4   |0.0     |N          |30.0         |SSE       |ESE       |17.0        |6.0         |48.0       |22.0       |1011.8     |1008.7     |No       |Yes         |[13.4,30.4,0.0,30.0,17.0,6.0,48.0,22.0,1011.8,1008.7]  |3.0              |3.0             |9.0             |0.0            |1.0               |\n",
      "|15.9   |21.7   |2.2     |NNE        |31.0         |NE        |ENE       |15.0        |13.0        |89.0       |91.0       |1010.5     |1004.2     |Yes      |Yes         |[15.9,21.7,2.2,31.0,15.0,13.0,89.0,91.0,1010.5,1004.2] |15.0             |12.0            |14.0            |1.0            |1.0               |\n",
      "|15.9   |18.6   |15.6    |W          |61.0         |NNW       |NNW       |28.0        |28.0        |76.0       |93.0       |994.3      |993.0      |Yes      |Yes         |[15.9,18.6,15.6,61.0,28.0,28.0,76.0,93.0,994.3,993.0]  |0.0              |9.0             |13.0            |1.0            |1.0               |\n",
      "|12.6   |21.0   |3.6     |SW         |44.0         |W         |SSW       |24.0        |20.0        |65.0       |43.0       |1001.2     |1001.8     |Yes      |No          |[12.6,21.0,3.6,44.0,24.0,20.0,65.0,43.0,1001.2,1001.8] |7.0              |6.0             |12.0            |1.0            |0.0               |\n",
      "|9.8    |27.7   |2.35    |WNW        |50.0         |N         |WNW       |14.0        |22.0        |50.0       |28.0       |1013.4     |1010.3     |No       |No          |[9.8,27.7,2.35,50.0,14.0,22.0,50.0,28.0,1013.4,1010.3] |9.0              |0.0             |7.0             |0.0            |0.0               |\n",
      "|14.1   |20.9   |0.0     |ENE        |22.0         |SSW       |E         |11.0        |9.0         |69.0       |82.0       |1012.2     |1010.4     |No       |Yes         |[14.1,20.9,0.0,22.0,11.0,9.0,69.0,82.0,1012.2,1010.4]  |11.0             |13.0            |10.0            |0.0            |1.0               |\n",
      "|13.5   |22.9   |16.8    |W          |63.0         |N         |WNW       |6.0         |20.0        |80.0       |65.0       |1005.8     |1002.2     |Yes      |Yes         |[13.5,22.9,16.8,63.0,6.0,20.0,80.0,65.0,1005.8,1002.2] |0.0              |0.0             |7.0             |1.0            |1.0               |\n",
      "|11.2   |22.5   |10.6    |SSE        |43.0         |WSW       |SW        |24.0        |17.0        |47.0       |32.0       |1009.4     |1009.7     |Yes      |No          |[11.2,22.5,10.6,43.0,24.0,17.0,47.0,32.0,1009.4,1009.7]|4.0              |15.0            |4.0             |1.0            |0.0               |\n",
      "|9.8    |25.6   |0.0     |SSE        |26.0         |SE        |NNW       |17.0        |6.0         |45.0       |26.0       |1019.2     |1017.1     |No       |No          |[9.8,25.6,0.0,26.0,17.0,6.0,45.0,26.0,1019.2,1017.1]   |4.0              |1.0             |13.0            |0.0            |0.0               |\n",
      "|11.5   |29.3   |0.0     |S          |24.0         |SE        |SE        |9.0         |9.0         |56.0       |28.0       |1019.3     |1014.8     |No       |No          |[11.5,29.3,0.0,24.0,9.0,9.0,56.0,28.0,1019.3,1014.8]   |5.0              |1.0             |0.0             |0.0            |0.0               |\n",
      "+-------+-------+--------+-----------+-------------+----------+----------+------------+------------+-----------+-----------+-----------+-----------+---------+------------+-------------------------------------------------------+-----------------+----------------+----------------+---------------+------------------+\n",
      "only showing top 20 rows\n",
      "\n"
     ]
    }
   ],
   "source": [
    "#Step 06 -- Data Transformation \n",
    "#Converting non-numeric columns into numeric using String Indexer\n",
    "\n",
    "from pyspark.ml.feature import StringIndexer\n",
    "from pyspark.ml import Pipeline\n",
    "\n",
    "#WindGustDir = StringIndexer(inputCol =\"WindGustDir\", outputCol = \"windGustDirIndex\")\n",
    "#WindDir9am = StringIndexer(inputCol =\"WindDir9am\", outputCol = \"windDir9amIndex\")\n",
    "#WindDir3pm = StringIndexer(inputCol =\"WindDir3pm\", outputCol = \"windDir3pmIndex\")\n",
    "#RainToday = StringIndexer(inputCol =\"RainToday\", outputCol = \"rainTodayIndex\")\n",
    "#RainTomo = StringIndexer(inputCol =\"RainTomorrow\", outputCol = \"rainTomorrowIndex\")\n",
    "\n",
    "\n",
    "indexers = [StringIndexer(inputCol=column, outputCol=column+\"_index\") for column in nonNumericColumns ]\n",
    "pipeline = Pipeline(stages=indexers)\n",
    "weatherdf = pipeline.fit(weatherdf).transform(weatherdf)\n",
    "weatherdf.show(truncate=False)"
   ]
  },
  {
   "cell_type": "code",
   "execution_count": null,
   "metadata": {},
   "outputs": [],
   "source": [
    "#from pyspark.ml import Pipeline\n",
    "\n",
    "#pipeline = Pipeline(stages=[assembler, WindGustDir,WindDir9am,WindDir3pm,RainToday,RainTomo])\n",
    "#pipelineFit = pipeline.fit(weatherdf)\n",
    "\n",
    "#transformedData = pipelineFit.transform(weatherdf)\n",
    "#transformedData.show(truncate=False)\n"
   ]
  },
  {
   "cell_type": "code",
   "execution_count": 14,
   "metadata": {},
   "outputs": [],
   "source": [
    "#Step 07 - Random split\n",
    "\n",
    "(trainingData, testData) = weatherdf.randomSplit([0.7, 0.3], seed = 100)"
   ]
  },
  {
   "cell_type": "code",
   "execution_count": 15,
   "metadata": {},
   "outputs": [
    {
     "name": "stdout",
     "output_type": "stream",
     "text": [
      "+-------+-------+-----------+-------------+----------+----------+------------+------------+-----------+-----------+--------------------+----------+------------------+\n",
      "|MinTemp|MaxTemp|WindGustDir|WindGustSpeed|WindDir9am|WindDir3pm|WindSpeed9am|WindSpeed3pm|Humidity9am|Humidity3pm|         probability|prediction|RainTomorrow_index|\n",
      "+-------+-------+-----------+-------------+----------+----------+------------+------------+-----------+-----------+--------------------+----------+------------------+\n",
      "|   -4.3|   16.5|        ESE|         44.0|         E|       ESE|        11.0|        30.0|       36.0|       23.0|[0.93062161330777...|       0.0|               0.0|\n",
      "|   -4.0|   14.8|        ESE|         41.0|         E|       ESE|         7.0|        24.0|       54.0|       20.0|[0.93062161330777...|       0.0|               0.0|\n",
      "|   -4.0|   16.2|        ESE|         54.0|       ESE|       ESE|         9.0|        28.0|       29.0|       27.0|[0.93062161330777...|       0.0|               0.0|\n",
      "|   -3.6|   19.3|        ENE|         31.0|         E|        NE|        11.0|        11.0|       31.0|       20.0|[0.93062161330777...|       0.0|               0.0|\n",
      "|   -3.5|   15.5|         SW|         20.0|         N|         W|         0.0|        13.0|       73.0|       32.0|[0.93062161330777...|       0.0|               0.0|\n",
      "+-------+-------+-----------+-------------+----------+----------+------------+------------+-----------+-----------+--------------------+----------+------------------+\n",
      "only showing top 5 rows\n",
      "\n",
      "Decision Tree Accuracy is:  83.62\n"
     ]
    }
   ],
   "source": [
    "#Step 08 - Computing accuracy using machine learning algorithms\n",
    "#Decision Tree Classifier\n",
    "\n",
    "from pyspark.ml.classification import DecisionTreeClassifier\n",
    "from pyspark.ml.evaluation import MulticlassClassificationEvaluator\n",
    "\n",
    "dt = DecisionTreeClassifier(labelCol=\"RainTomorrow_index\", featuresCol=\"features\")\n",
    "dtModel = dt.fit(trainingData)\n",
    "\n",
    "dtPredictions = dtModel.transform(testData)\n",
    "\n",
    "dtPredictions.select(\"MinTemp\",\"MaxTemp\",\"WindGustDir\",\"WindGustSpeed\",\"WindDir9am\",\"WindDir3pm\",\n",
    "                   \"WindSpeed9am\",\"WindSpeed3pm\",\"Humidity9am\",\"Humidity3pm\",\n",
    "                   \"probability\",\"prediction\",\"RainTomorrow_index\")\\\n",
    "                .orderBy(\"probability\", ascending=False).show(5)\n",
    "\n",
    "evaluator = MulticlassClassificationEvaluator(\\\n",
    "labelCol=\"RainTomorrow_index\", predictionCol=\"prediction\",\\\n",
    "metricName=\"accuracy\")\n",
    "\n",
    "decisionTreeAccuracy = (evaluator.evaluate(dtPredictions))*100\n",
    "\n",
    "\n",
    "print(\"Decision Tree Accuracy is: \"+\" \"+\"%.2f\" % decisionTreeAccuracy)\n",
    "\n",
    "#print(\"Test Error in DecisionTreeClassifier = %g \" % (1.0 - decisionTreeAccuracy))\n"
   ]
  },
  {
   "cell_type": "code",
   "execution_count": 16,
   "metadata": {},
   "outputs": [
    {
     "name": "stdout",
     "output_type": "stream",
     "text": [
      "+-------+-------+-----------+-------------+----------+----------+------------+------------+-----------+-----------+--------------------+----------+------------------+\n",
      "|MinTemp|MaxTemp|WindGustDir|WindGustSpeed|WindDir9am|WindDir3pm|WindSpeed9am|WindSpeed3pm|Humidity9am|Humidity3pm|         probability|prediction|RainTomorrow_index|\n",
      "+-------+-------+-----------+-------------+----------+----------+------------+------------+-----------+-----------+--------------------+----------+------------------+\n",
      "|   -3.4|   15.5|        ESE|         50.0|        SE|        SE|        13.0|        28.0|       54.0|       16.0|[0.90706906220291...|       0.0|               0.0|\n",
      "|   -2.8|   23.5|          N|         28.0|       NNW|         W|         7.0|         9.0|       21.0|        9.0|[0.90706906220291...|       0.0|               0.0|\n",
      "|   -3.4|   16.7|        ESE|         44.0|        SE|        SE|        13.0|        26.0|       56.0|       24.0|[0.90706906220291...|       0.0|               0.0|\n",
      "|   -4.0|   14.8|        ESE|         41.0|         E|       ESE|         7.0|        24.0|       54.0|       20.0|[0.90706906220291...|       0.0|               0.0|\n",
      "|   -3.1|   20.0|          W|        39.98|         N|        SE|        14.0|       18.64|       60.0|       29.0|[0.90706906220291...|       0.0|               0.0|\n",
      "+-------+-------+-----------+-------------+----------+----------+------------+------------+-----------+-----------+--------------------+----------+------------------+\n",
      "only showing top 5 rows\n",
      "\n",
      "Random Forest Accuracy is:  83.51\n"
     ]
    }
   ],
   "source": [
    "#Step 08\n",
    "#Random Forest\n",
    "\n",
    "from pyspark.ml.classification import RandomForestClassifier\n",
    "from pyspark.ml.evaluation import MulticlassClassificationEvaluator\n",
    "\n",
    "rf = RandomForestClassifier(labelCol=\"RainTomorrow_index\",\\\n",
    "featuresCol=\"features\", numTrees=10)\n",
    "\n",
    "rfModel = rf.fit(trainingData)\n",
    "\n",
    "rfPredictions = rfModel.transform(testData)\n",
    "\n",
    "#predictions.select(\"prediction\", \"RainTomorrow_index\").show(5)\n",
    "rfPredictions.select(\"MinTemp\",\"MaxTemp\",\"WindGustDir\",\"WindGustSpeed\",\"WindDir9am\",\"WindDir3pm\",\\\n",
    "                   \"WindSpeed9am\",\"WindSpeed3pm\",\"Humidity9am\",\"Humidity3pm\",\\\n",
    "                   \"probability\",\"prediction\",\"RainTomorrow_index\")\\\n",
    "                .orderBy(\"probability\", ascending=False).show(5)\n",
    "\n",
    "evaluator =\\\n",
    "MulticlassClassificationEvaluator(labelCol=\"RainTomorrow_index\",\\\n",
    "predictionCol=\"prediction\", metricName=\"accuracy\")\n",
    "\n",
    "randomForestAccuracy = (evaluator.evaluate(rfPredictions))*100\n",
    "\n",
    "print(\"Random Forest Accuracy is: \"+\" \"+\"%.2f\" % randomForestAccuracy)\n",
    "\n",
    "#print(\"Test Error in RandomForestClassifier = %g\" % (1.0 - randomForestAccuracy))\n"
   ]
  },
  {
   "cell_type": "code",
   "execution_count": 17,
   "metadata": {},
   "outputs": [
    {
     "name": "stdout",
     "output_type": "stream",
     "text": [
      "+-------+-------+-----------+-------------+----------+----------+------------+------------+-----------+-----------+--------------------+----------+------------------+\n",
      "|MinTemp|MaxTemp|WindGustDir|WindGustSpeed|WindDir9am|WindDir3pm|WindSpeed9am|WindSpeed3pm|Humidity9am|Humidity3pm|         probability|prediction|RainTomorrow_index|\n",
      "+-------+-------+-----------+-------------+----------+----------+------------+------------+-----------+-----------+--------------------+----------+------------------+\n",
      "|    9.1|   35.3|          E|         26.0|       ESE|         S|         2.0|         9.0|       11.0|        5.0|[0.90607389956945...|       0.0|               0.0|\n",
      "|   16.6|   35.3|        NNE|         22.0|       NNE|       SSW|         6.0|         4.0|       14.0|        8.0|[0.89998424527545...|       0.0|               0.0|\n",
      "|   14.6|   37.3|          S|         28.0|       WSW|        NW|         4.0|        11.0|       11.0|        6.0|[0.89993161151859...|       0.0|               0.0|\n",
      "|    7.8|   31.6|         NE|         26.0|         W|       WSW|         7.0|        11.0|       11.0|        5.0|[0.89952547527820...|       0.0|               0.0|\n",
      "|    6.5|   30.3|         SW|         26.0|         N|        SW|         0.0|        11.0|       13.0|        8.0|[0.89783341773025...|       0.0|               0.0|\n",
      "+-------+-------+-----------+-------------+----------+----------+------------+------------+-----------+-----------+--------------------+----------+------------------+\n",
      "only showing top 5 rows\n",
      "\n",
      "Logistic Regression Accuracy is:  81.05\n"
     ]
    }
   ],
   "source": [
    "#Step 08\n",
    "\n",
    "#Logistic expression\n",
    "from pyspark.ml.classification import LogisticRegression\n",
    "\n",
    "lr = LogisticRegression(labelCol=\"RainTomorrow_index\", featuresCol=\"features\", maxIter=10)\n",
    "lrModel = lr.fit(trainingData)\n",
    "\n",
    "# LogicRegression.transform() is a method that uses only 'features'.\n",
    "lrPredictions = lrModel.transform(testData)\n",
    "\n",
    "lrPredictions.select(\"MinTemp\",\"MaxTemp\",\"WindGustDir\",\"WindGustSpeed\",\"WindDir9am\",\"WindDir3pm\",\\\n",
    "                   \"WindSpeed9am\",\"WindSpeed3pm\",\"Humidity9am\",\"Humidity3pm\",\\\n",
    "                   \"probability\",\"prediction\",\"RainTomorrow_index\")\\\n",
    "                .orderBy(\"probability\", ascending=False).show(5)\n",
    "\n",
    "evaluator = MulticlassClassificationEvaluator(labelCol=\"RainTomorrow_index\",\\\n",
    "predictionCol=\"prediction\", metricName=\"accuracy\")\n",
    "\n",
    "logisticRegressionAccuracy = (evaluator.evaluate(lrPredictions))*100\n",
    "\n",
    "print(\"Logistic Regression Accuracy is: \"+\" \"+\"%.2f\" % logisticRegressionAccuracy)"
   ]
  },
  {
   "cell_type": "code",
   "execution_count": 18,
   "metadata": {},
   "outputs": [
    {
     "name": "stdout",
     "output_type": "stream",
     "text": [
      "+-------+-------+-----------+-------------+----------+----------+------------+------------+-----------+-----------+--------------------+----------+------------------+\n",
      "|MinTemp|MaxTemp|WindGustDir|WindGustSpeed|WindDir9am|WindDir3pm|WindSpeed9am|WindSpeed3pm|Humidity9am|Humidity3pm|         probability|prediction|RainTomorrow_index|\n",
      "+-------+-------+-----------+-------------+----------+----------+------------+------------+-----------+-----------+--------------------+----------+------------------+\n",
      "|    2.1|   26.8|          N|         26.0|         N|       WSW|         0.0|         9.0|       34.0|       10.0|[0.92460119017675...|       0.0|               0.0|\n",
      "|    4.6|   26.3|         NE|         31.0|       ESE|       ENE|         7.0|        15.0|       31.0|       10.0|[0.92460119017675...|       0.0|               0.0|\n",
      "|   -1.4|   23.4|        NNW|         30.0|        NE|        NE|         9.0|        11.0|       37.0|       10.0|[0.92460119017675...|       0.0|               0.0|\n",
      "|   -1.0|   23.6|         NE|         26.0|        SW|        SE|         2.0|        11.0|       58.0|       12.0|[0.92460119017675...|       0.0|               0.0|\n",
      "|    0.4|   19.2|          E|         30.0|       ESE|        NE|        13.0|        13.0|       51.0|       13.0|[0.92460119017675...|       0.0|               0.0|\n",
      "+-------+-------+-----------+-------------+----------+----------+------------+------------+-----------+-----------+--------------------+----------+------------------+\n",
      "only showing top 5 rows\n",
      "\n",
      "Logistic Regression Accuracy is:  84.04\n"
     ]
    }
   ],
   "source": [
    "#Step 08\n",
    "\n",
    "#GBT\n",
    "\n",
    "from pyspark.ml.classification import GBTClassifier\n",
    "gbt = GBTClassifier(labelCol=\"RainTomorrow_index\", featuresCol=\"features\",maxIter=10)\n",
    "gbtModel = gbt.fit(trainingData)\n",
    "gbtPredictions = gbtModel.transform(testData)\n",
    "\n",
    "gbtPredictions.select(\"MinTemp\",\"MaxTemp\",\"WindGustDir\",\"WindGustSpeed\",\"WindDir9am\",\"WindDir3pm\",\\\n",
    "                   \"WindSpeed9am\",\"WindSpeed3pm\",\"Humidity9am\",\"Humidity3pm\",\\\n",
    "                   \"probability\",\"prediction\",\"RainTomorrow_index\")\\\n",
    "                .orderBy(\"probability\", ascending=False).show(5)\n",
    "\n",
    "evaluator = MulticlassClassificationEvaluator(labelCol=\"RainTomorrow_index\",\\\n",
    "predictionCol=\"prediction\", metricName=\"accuracy\")\n",
    "\n",
    "gbtAccuracy = (evaluator.evaluate(gbtPredictions))*100\n",
    "\n",
    "print(\"Logistic Regression Accuracy is: \"+\" \"+\"%.2f\" % gbtAccuracy)"
   ]
  },
  {
   "cell_type": "code",
   "execution_count": 19,
   "metadata": {},
   "outputs": [
    {
     "data": {
      "text/plain": [
       "Text(0.5, 1.0, 'COMPARISON OF MACHINE LEARNING ALGORITHMS ACCURACY')"
      ]
     },
     "execution_count": 19,
     "metadata": {},
     "output_type": "execute_result"
    },
    {
     "data": {
      "image/png": "[encoded data removed]",
      "text/plain": [
       "<Figure size 720x360 with 1 Axes>"
      ]
     },
     "metadata": {
      "needs_background": "light"
     },
     "output_type": "display_data"
    }
   ],
   "source": [
    "#Step 08 - Comparing accuracy using bar graphs\n",
    "\n",
    "import matplotlib.pyplot as plt\n",
    "import numpy as np\n",
    "%matplotlib inline\n",
    "bar_width = 0.5\n",
    "\n",
    "classificationList=('Decision Tree','Random Forest','Logistic Regression','GBT')\n",
    "y_pos = np.arange(len(classificationList))\n",
    "accuracyValues = [decisionTreeAccuracy,randomForestAccuracy,logisticRegressionAccuracy,gbtAccuracy]\n",
    "\n",
    "plt.subplots(figsize=(10,5))\n",
    "plt.style.use('ggplot')\n",
    "plt.bar(y_pos,accuracyValues,bar_width, align='center', color='C0')\n",
    "plt.xticks(y_pos,classificationList,fontsize=14)\n",
    "plt.xlabel('Classfication Techniques',fontsize=14)\n",
    "plt.ylabel('Accuracy(%)',fontsize=14)\n",
    "plt.title('COMPARISON OF MACHINE LEARNING ALGORITHMS ACCURACY')"
   ]
  },
  {
   "cell_type": "code",
   "execution_count": 24,
   "metadata": {},
   "outputs": [],
   "source": [
    "#Step 9 - Calculate confusion matrix\n",
    "\n",
    "def confusionMatrix(predictions):\n",
    "    TN=predictions.filter('prediction = 0.0 AND RainTomorrow_index = 0.0').count()\n",
    "    FN=predictions.filter('prediction = 0.0 AND RainTomorrow_index = 1.0').count()\n",
    "    TP=predictions.filter('prediction = 1.0 AND RainTomorrow_index = 1.0').count()\n",
    "    FP=predictions.filter('prediction = 1.0 AND RainTomorrow_index = 0.0').count()\n",
    "    \n",
    "    precision = TP/(TP+FP)\n",
    "    recall = TP/(TP+FN)\n",
    "    F1 = 2*((precision*recall)/(precision+recall))\n",
    "    return('precision = {:.2f}, recall = {:.2f}, f1Score = {:.2f}'.format(precision, recall, F1))\n",
    "   "
   ]
  },
  {
   "cell_type": "code",
   "execution_count": 31,
   "metadata": {},
   "outputs": [
    {
     "name": "stdout",
     "output_type": "stream",
     "text": [
      "Confusion Matrix for Decision Tree are :  precision = 0.73, recall = 0.43, f1Score = 0.54\n"
     ]
    }
   ],
   "source": [
    "#Confusion Matrix for Decision Tree Classifier\n",
    "\n",
    "print(\"Confusion Matrix for Decision Tree are : \",confusionMatrix(dtPredictions))"
   ]
  },
  {
   "cell_type": "code",
   "execution_count": 32,
   "metadata": {},
   "outputs": [
    {
     "name": "stdout",
     "output_type": "stream",
     "text": [
      "Confusion Matrix for Random Forest are :  precision = 0.76, recall = 0.39, f1Score = 0.51\n"
     ]
    }
   ],
   "source": [
    "#Confusion Matrix for Random Forest\n",
    "\n",
    "print(\"Confusion Matrix for Random Forest are : \",confusionMatrix(rfPredictions))"
   ]
  },
  {
   "cell_type": "code",
   "execution_count": 34,
   "metadata": {},
   "outputs": [
    {
     "name": "stdout",
     "output_type": "stream",
     "text": [
      "Confusion Matrix for Logistic Regression are :  precision = 0.76, recall = 0.22, f1Score = 0.34\n"
     ]
    }
   ],
   "source": [
    "#Confusion Matrix for Logistic Regression\n",
    "\n",
    "print(\"Confusion Matrix for Logistic Regression are : \",confusionMatrix(lrPredictions))"
   ]
  },
  {
   "cell_type": "code",
   "execution_count": 37,
   "metadata": {},
   "outputs": [
    {
     "name": "stdout",
     "output_type": "stream",
     "text": [
      "Confusion Matrix for Gradient Boosting are :  precision = 0.74, recall = 0.43, f1Score = 0.55\n"
     ]
    }
   ],
   "source": [
    "#Confusion Matrix for Gradient Boosting\n",
    "\n",
    "print(\"Confusion Matrix for Gradient Boosting are : \",confusionMatrix(gbtPredictions))"
   ]
  },
  {
   "cell_type": "code",
   "execution_count": null,
   "metadata": {},
   "outputs": [],
   "source": []
  }
 ],
 "metadata": {
  "kernelspec": {
   "display_name": "Python 3",
   "language": "python",
   "name": "python3"
  },
  "language_info": {
   "codemirror_mode": {
    "name": "ipython",
    "version": 3
   },
   "file_extension": ".py",
   "mimetype": "text/x-python",
   "name": "python",
   "nbconvert_exporter": "python",
   "pygments_lexer": "ipython3",
   "version": "3.6.8"
  }
 },
 "nbformat": 4,
 "nbformat_minor": 2
}
